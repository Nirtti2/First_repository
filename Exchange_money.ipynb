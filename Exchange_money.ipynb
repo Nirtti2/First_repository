{
  "nbformat": 4,
  "nbformat_minor": 0,
  "metadata": {
    "colab": {
      "provenance": [],
      "authorship_tag": "ABX9TyPkSr7f/AxCZKWhNH1ikDW8",
      "include_colab_link": true
    },
    "kernelspec": {
      "name": "python3",
      "display_name": "Python 3"
    },
    "language_info": {
      "name": "python"
    }
  },
  "cells": [
    {
      "cell_type": "markdown",
      "metadata": {
        "id": "view-in-github",
        "colab_type": "text"
      },
      "source": [
        "<a href=\"https://colab.research.google.com/github/Nirtti2/First_repository/blob/main/Exchange_money.ipynb\" target=\"_parent\"><img src=\"https://colab.research.google.com/assets/colab-badge.svg\" alt=\"Open In Colab\"/></a>"
      ]
    },
    {
      "cell_type": "code",
      "execution_count": null,
      "metadata": {
        "colab": {
          "base_uri": "https://localhost:8080/"
        },
        "id": "HKPL33FnnqiH",
        "outputId": "81251c28-9515-47d8-ae23-2edb44ed357b"
      },
      "outputs": [
        {
          "output_type": "stream",
          "name": "stdout",
          "text": [
            "Zadejte částku v eurech: 15\n",
            "15.0 EUR je 368.55 CZK.\n"
          ]
        }
      ],
      "source": [
        "# prompt: Napiš mi kód, kdy chceš mít přehled o kurzu měn v Eurech a Českých korunách. Uživatel zadá hodnotu v eurech a program vypočítá, kolik to je v  českých korunách . Kurz k dnešnímu dni je 24.57 Kč za jedno euro\n",
        "\n",
        "def prevest_eur_na_czk(eura):\n",
        "  \"\"\"\n",
        "  Převádí zadanou částku v eurech na české koruny.\n",
        "\n",
        "  Args:\n",
        "    eura: Částka v eurech (float nebo int).\n",
        "\n",
        "  Returns:\n",
        "    Částka v českých korunách (float).\n",
        "  \"\"\"\n",
        "  kurz = 24.57\n",
        "  czk = eura * kurz\n",
        "  return czk\n",
        "\n",
        "# Získání vstupu od uživatele\n",
        "try:\n",
        "  castka_eur = float(input(\"Zadejte částku v eurech: \"))\n",
        "  castka_czk = prevest_eur_na_czk(castka_eur)\n",
        "  print(f\"{castka_eur} EUR je {castka_czk:.2f} CZK.\")\n",
        "except ValueError:\n",
        "  print(\"Chybný vstup. Zadejte prosím platné číslo.\")\n"
      ]
    },
    {
      "cell_type": "code",
      "source": [
        "# Instalace balíčku exchange-rate-api\n",
        "#!pip install exchange-rate-api==0.4.1\n",
        "\n",
        "from exchange_rate_api import ExchangeRateAPI\n",
        "\n",
        "def prevest_eur_na_czk_aktualni_kurz(eura):\n",
        "  \"\"\"\n",
        "  Převádí zadanou částku v eurech na české koruny s využitím aktuálního kurzu.\n",
        "\n",
        "  Args:\n",
        "    eura: Částka v eurech (float nebo int).\n",
        "\n",
        "  Returns:\n",
        "    Částka v českých korunách (float) nebo None v případě chyby.\n",
        "  \"\"\"\n",
        "  try:\n",
        "    api = ExchangeRateAPI()\n",
        "    # Získání směnného kurzu z EUR na CZK\n",
        "    kurz_eur_czk = api.get_rate(\"EUR\", \"CZK\")\n",
        "    if kurz_eur_czk:\n",
        "      czk = eura * kurz_eur_czk\n",
        "      return czk\n",
        "    else:\n",
        "      print(\"Nepodařilo se získat aktuální směnný kurz.\")\n",
        "      return None\n",
        "  except Exception as e:\n",
        "    print(f\"Došlo k chybě při získávání směnného kurzu: {e}\")\n",
        "    return None\n",
        "\n",
        "# Získání vstupu od uživatele\n",
        "try:\n",
        "  castka_eur = float(input(\"Zadejte částku v eurech: \"))\n",
        "  castka_czk = prevest_eur_na_czk_aktualni_kurz(castka_eur)\n",
        "  if castka_czk is not None:\n",
        "    print(f\"{castka_eur} EUR je {castka_czk:.2f} CZK (aktuální kurz).\")\n",
        "except ValueError:\n",
        "  print(\"Chybný vstup. Zadejte prosím platné číslo.\")"
      ],
      "metadata": {
        "colab": {
          "base_uri": "https://localhost:8080/",
          "height": 383
        },
        "id": "dWm0B2G59GXt",
        "outputId": "d8b82dfc-fdaa-4836-f2a9-c76e414188f7"
      },
      "execution_count": null,
      "outputs": [
        {
          "output_type": "error",
          "ename": "ModuleNotFoundError",
          "evalue": "No module named 'exchange_rate_api'",
          "traceback": [
            "\u001b[0;31m---------------------------------------------------------------------------\u001b[0m",
            "\u001b[0;31mModuleNotFoundError\u001b[0m                       Traceback (most recent call last)",
            "\u001b[0;32m<ipython-input-8-85e195ed08ad>\u001b[0m in \u001b[0;36m<cell line: 0>\u001b[0;34m()\u001b[0m\n\u001b[1;32m      2\u001b[0m \u001b[0;31m#!pip install exchange-rate-api==0.4.1\u001b[0m\u001b[0;34m\u001b[0m\u001b[0;34m\u001b[0m\u001b[0m\n\u001b[1;32m      3\u001b[0m \u001b[0;34m\u001b[0m\u001b[0m\n\u001b[0;32m----> 4\u001b[0;31m \u001b[0;32mfrom\u001b[0m \u001b[0mexchange_rate_api\u001b[0m \u001b[0;32mimport\u001b[0m \u001b[0mExchangeRateAPI\u001b[0m\u001b[0;34m\u001b[0m\u001b[0;34m\u001b[0m\u001b[0m\n\u001b[0m\u001b[1;32m      5\u001b[0m \u001b[0;34m\u001b[0m\u001b[0m\n\u001b[1;32m      6\u001b[0m \u001b[0;32mdef\u001b[0m \u001b[0mprevest_eur_na_czk_aktualni_kurz\u001b[0m\u001b[0;34m(\u001b[0m\u001b[0meura\u001b[0m\u001b[0;34m)\u001b[0m\u001b[0;34m:\u001b[0m\u001b[0;34m\u001b[0m\u001b[0;34m\u001b[0m\u001b[0m\n",
            "\u001b[0;31mModuleNotFoundError\u001b[0m: No module named 'exchange_rate_api'",
            "",
            "\u001b[0;31m---------------------------------------------------------------------------\u001b[0;32m\nNOTE: If your import is failing due to a missing package, you can\nmanually install dependencies using either !pip or !apt.\n\nTo view examples of installing some common dependencies, click the\n\"Open Examples\" button below.\n\u001b[0;31m---------------------------------------------------------------------------\u001b[0m\n"
          ],
          "errorDetails": {
            "actions": [
              {
                "action": "open_url",
                "actionText": "Open Examples",
                "url": "/notebooks/snippets/importing_libraries.ipynb"
              }
            ]
          }
        }
      ]
    }
  ]
}