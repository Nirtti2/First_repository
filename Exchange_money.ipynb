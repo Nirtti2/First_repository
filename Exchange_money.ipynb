{
  "nbformat": 4,
  "nbformat_minor": 0,
  "metadata": {
    "colab": {
      "provenance": [],
      "include_colab_link": true
    },
    "kernelspec": {
      "name": "python3",
      "display_name": "Python 3"
    },
    "language_info": {
      "name": "python"
    }
  },
  "cells": [
    {
      "cell_type": "markdown",
      "metadata": {
        "id": "view-in-github",
        "colab_type": "text"
      },
      "source": [
        "<a href=\"https://colab.research.google.com/github/Nirtti2/First_repository/blob/main/Exchange_money.ipynb\" target=\"_parent\"><img src=\"https://colab.research.google.com/assets/colab-badge.svg\" alt=\"Open In Colab\"/></a>"
      ]
    },
    {
      "cell_type": "code",
      "execution_count": null,
      "metadata": {
        "colab": {
          "base_uri": "https://localhost:8080/"
        },
        "id": "HKPL33FnnqiH",
        "outputId": "81251c28-9515-47d8-ae23-2edb44ed357b"
      },
      "outputs": [
        {
          "output_type": "stream",
          "name": "stdout",
          "text": [
            "Zadejte částku v eurech: 15\n",
            "15.0 EUR je 368.55 CZK.\n"
          ]
        }
      ],
      "source": [
        "# prompt: Napiš mi kód, kdy chceš mít přehled o kurzu měn v Eurech a Českých korunách. Uživatel zadá hodnotu v eurech a program vypočítá, kolik to je v  českých korunách . Kurz k dnešnímu dni je 24.57 Kč za jedno euro\n",
        "\n",
        "def prevest_eur_na_czk(eura):\n",
        "  \"\"\"\n",
        "  Převádí zadanou částku v eurech na české koruny.\n",
        "\n",
        "  Args:\n",
        "    eura: Částka v eurech (float nebo int).\n",
        "\n",
        "  Returns:\n",
        "    Částka v českých korunách (float).\n",
        "  \"\"\"\n",
        "  kurz = 24.57\n",
        "  czk = eura * kurz\n",
        "  return czk\n",
        "\n",
        "# Získání vstupu od uživatele\n",
        "try:\n",
        "  castka_eur = float(input(\"Zadejte částku v eurech: \"))\n",
        "  castka_czk = prevest_eur_na_czk(castka_eur)\n",
        "  print(f\"{castka_eur} EUR je {castka_czk:.2f} CZK.\")\n",
        "except ValueError:\n",
        "  print(\"Chybný vstup. Zadejte prosím platné číslo.\")\n"
      ]
    }
  ]
}