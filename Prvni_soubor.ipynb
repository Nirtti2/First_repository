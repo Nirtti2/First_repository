{
  "nbformat": 4,
  "nbformat_minor": 0,
  "metadata": {
    "colab": {
      "provenance": [],
      "authorship_tag": "ABX9TyM8baB+oOY8yWIOis0lxR/N",
      "include_colab_link": true
    },
    "kernelspec": {
      "name": "python3",
      "display_name": "Python 3"
    },
    "language_info": {
      "name": "python"
    }
  },
  "cells": [
    {
      "cell_type": "markdown",
      "metadata": {
        "id": "view-in-github",
        "colab_type": "text"
      },
      "source": [
        "<a href=\"https://colab.research.google.com/github/Nirtti2/N2_repository/blob/main/Prvni_soubor.ipynb\" target=\"_parent\"><img src=\"https://colab.research.google.com/assets/colab-badge.svg\" alt=\"Open In Colab\"/></a>"
      ]
    },
    {
      "cell_type": "code",
      "execution_count": null,
      "metadata": {
        "id": "57REdUeYjrZ-"
      },
      "outputs": [],
      "source": []
    },
    {
      "cell_type": "markdown",
      "source": [
        "Nějaký **text**\n",
        "jdeme *zkoušet*, co to umí.\n",
        "\n",
        "1.   První seznam\n",
        "2.   Druhý seznam\n",
        "3. třetí seznam\n",
        "4. čtvrtý seznam\n",
        "\n",
        "---\n",
        "*   Položka seznamu\n",
        "*   Položka seznamu\n",
        "* položka\n",
        "* další položka\n",
        "---\n",
        "\n",
        "❎ něco\n",
        "\n",
        "⛔ něco dalšího\n",
        "\n",
        "♒   a pak toto\n",
        "\n",
        "---\n",
        "\n",
        "> *Přidat blokovou citaci*\n",
        "\n",
        "> citace\n",
        "\n",
        "\n",
        "\n"
      ],
      "metadata": {
        "id": "BbYyCQ48Ea5-"
      }
    },
    {
      "cell_type": "markdown",
      "source": [],
      "metadata": {
        "id": "AzcdOZSvF7De"
      }
    },
    {
      "cell_type": "code",
      "source": [
        "# prompt: 10 random numbers using numpy (numbers are from 0 to 100)\n",
        "\n",
        "import numpy as np\n",
        "\n",
        "random_numbers = np.random.randint(0, 101, 10)\n",
        "print(random_numbers)\n"
      ],
      "metadata": {
        "colab": {
          "base_uri": "https://localhost:8080/"
        },
        "id": "VZJociSlEpv8",
        "outputId": "2dc869f9-c13b-433c-e1d4-a824c89980ef"
      },
      "execution_count": 11,
      "outputs": [
        {
          "output_type": "stream",
          "name": "stdout",
          "text": [
            "[66  9 85 55 40 60 84 69 32 14]\n"
          ]
        }
      ]
    },
    {
      "cell_type": "code",
      "source": [
        "import matplotlib.pyplot as plt\n",
        "import matplotlib.patches as patches\n",
        "import random\n",
        "import numpy as np # Ensure numpy is imported\n",
        "\n",
        "def create_shape_picture(num_squares, num_rectangles):\n",
        "    \"\"\"\n",
        "    Creates a picture composed of squares and rectangles.\n",
        "\n",
        "    Args:\n",
        "        num_squares (int): The number of squares to draw.\n",
        "        num_rectangles (int): The number of rectangles to draw.\n",
        "    \"\"\"\n",
        "    fig, ax = plt.subplots(1)\n",
        "    ax.set_aspect('equal', adjustable='box')\n",
        "    ax.set_xlim(0, 10)  # Set arbitrary limits for the plot\n",
        "    ax.set_ylim(0, 10)\n",
        "    ax.axis('off') # Hide the axes\n",
        "\n",
        "    for _ in range(num_squares):\n",
        "        size = random.uniform(0.5, 2)  # Random size for squares\n",
        "        x = random.uniform(0, 10 - size)\n",
        "        y = random.uniform(0, 10 - size)\n",
        "        # Use np.random.rand for generating random color values\n",
        "        square = patches.Rectangle((x, y), size, size, linewidth=1, edgecolor='black', facecolor=np.random.rand(3,))\n",
        "        ax.add_patch(square)\n",
        "\n",
        "    for _ in range(num_rectangles):\n",
        "        width = random.uniform(0.5, 3)  # Random width for rectangles\n",
        "        height = random.uniform(0.5, 3) # Random height for rectangles\n",
        "        x = random.uniform(0, 10 - width)\n",
        "        y = random.uniform(0, 10 - height)\n",
        "        # Use np.random.rand for generating random color values\n",
        "        rectangle = patches.Rectangle((x, y), width, height, linewidth=1, edgecolor='black', facecolor=np.random.rand(3,))\n",
        "        ax.add_patch(rectangle)\n",
        "\n",
        "    plt.show()\n",
        "\n",
        "# Get user input\n",
        "try:\n",
        "    num_squares_input = int(input(\"Enter the number of squares you want to use: \"))\n",
        "    num_rectangles_input = int(input(\"Enter the number of rectangles you want to use: \"))\n",
        "\n",
        "    if num_squares_input < 0 or num_rectangles_input < 0:\n",
        "        print(\"Please enter non-negative numbers for the shapes.\")\n",
        "    else:\n",
        "        create_shape_picture(num_squares_input, num_rectangles_input)\n",
        "\n",
        "except ValueError:\n",
        "    print(\"Invalid input. Please enter integers for the number of shapes.\")"
      ],
      "metadata": {
        "colab": {
          "base_uri": "https://localhost:8080/",
          "height": 441
        },
        "id": "DB0VCa78GE2f",
        "outputId": "7fe296dd-5c93-4438-c21f-b91131f9ec31"
      },
      "execution_count": 3,
      "outputs": [
        {
          "name": "stdout",
          "output_type": "stream",
          "text": [
            "Enter the number of squares you want to use: 6\n",
            "Enter the number of rectangles you want to use: 3\n"
          ]
        },
        {
          "output_type": "display_data",
          "data": {
            "text/plain": [
              "<Figure size 640x480 with 1 Axes>"
            ],
            "image/png": "[encoded data removed]"
          },
          "metadata": {}
        }
      ]
    },
    {
      "cell_type": "markdown",
      "source": [
        "Použití AI (LLM)"
      ],
      "metadata": {
        "id": "OCMGPEt9Ma0y"
      }
    },
    {
      "cell_type": "code",
      "source": [
        "# prompt: Vytvoř mi program, který se zeptá na mé jméno, pak věk. poté se zeptá ještě 2 krát a seřadí vložené údaje podle abecedy vzestupně podle jména.\n",
        "\n",
        "data = []\n",
        "for i in range(3):\n",
        "  name = input(\"Zadej jméno: \")\n",
        "  age = input(\"Zadej věk: \")\n",
        "  data.append({\"jméno\": name, \"věk\": age})\n",
        "\n",
        "sorted_data = sorted(data, key=lambda x: x[\"jméno\"])\n",
        "\n",
        "print(\"\\nSeřazené údaje:\")\n",
        "for entry in sorted_data:\n",
        "  print(f\"Jméno: {entry['jméno']}, Věk: {entry['věk']}\")\n"
      ],
      "metadata": {
        "colab": {
          "base_uri": "https://localhost:8080/"
        },
        "id": "Rtp-WH_iMhZU",
        "outputId": "1ddbcd59-05ff-4a22-e54a-12ddb2e34f8a"
      },
      "execution_count": 12,
      "outputs": [
        {
          "output_type": "stream",
          "name": "stdout",
          "text": [
            "Zadej jméno: Iva\n",
            "Zadej věk: 37\n",
            "Zadej jméno: Erika\n",
            "Zadej věk: 38\n",
            "Zadej jméno: Maruška\n",
            "Zadej věk: 39\n",
            "\n",
            "Seřazené údaje:\n",
            "Jméno: Erika, Věk: 38\n",
            "Jméno: Iva, Věk: 37\n",
            "Jméno: Maruška, Věk: 39\n"
          ]
        }
      ]
    }
  ]
}